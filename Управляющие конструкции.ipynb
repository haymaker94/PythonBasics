{
 "cells": [
  {
   "cell_type": "code",
   "execution_count": null,
   "metadata": {},
   "outputs": [],
   "source": [
    "#Задание 1.Дана переменная, в которой хранится слово из латинских букв. Напишите код, который выводит на экран:\n",
    "#среднюю букву, если число букв в слове четное;\n",
    "#две средних буквы, если число букв нечетное.\n",
    "\n",
    "word = \"1234567890\"\n",
    "print (word[(len(word)-1)//2:(len(word)-(len(word)-1)//2)])"
   ]
  },
  {
   "cell_type": "code",
   "execution_count": null,
   "metadata": {},
   "outputs": [],
   "source": []
  },
  {
   "cell_type": "code",
   "execution_count": 7,
   "metadata": {},
   "outputs": [
    {
     "name": "stdout",
     "output_type": "stream",
     "text": [
      "1\n",
      "4\n",
      "6\n",
      "0\n",
      "11\n"
     ]
    }
   ],
   "source": [
    "#Задание 2. Напишите программу, которая последовательно запрашивает у пользователя числа (по одному за раз) и после первого нуля выводит сумму всех ранее введенных чисел.\n",
    "\n",
    "sum = 0\n",
    "n = int(input())\n",
    "while n !=0:\n",
    "    sum += n\n",
    "    n = int(input())\n",
    "print(sum)"
   ]
  },
  {
   "cell_type": "code",
   "execution_count": 64,
   "metadata": {},
   "outputs": [
    {
     "name": "stdout",
     "output_type": "stream",
     "text": [
      "Внимание, кто-то может остаться без пары! (возможно, это к лучшему)\n"
     ]
    }
   ],
   "source": [
    "#Задание 3. Мы делаем MVP dating-сервиса, и у нас есть список парней и девушек.\n",
    "#Выдвигаем гипотезу: лучшие рекомендации мы получим,\n",
    "#если просто отсортируем имена по алфавиту и познакомим людей с одинаковыми индексами после сортировки!\n",
    "#Но мы не будем никого знакомить, если кто-то может остаться без пары:\n",
    "\n",
    "boys = ['Peter', 'Alex', 'John', 'Arthur', 'Richard', 'Никита Джигурда']\n",
    "girls = ['Kate', 'Liza', 'Kira', 'Emma', 'Trisha', 'Мария Захарова']\n",
    "\n",
    "if len(boys) == len(girls):\n",
    "    matches = list(zip(boys, girls))\n",
    "    print('the following pairs are perfect matchings:')\n",
    "    for pair in matches:\n",
    "        print(pair[0], ' and ', pair[1])\n",
    "else:\n",
    "    print('Внимание, кто-то может остаться без пары! (возможно, это к лучшему)')"
   ]
  },
  {
   "cell_type": "code",
   "execution_count": 37,
   "metadata": {},
   "outputs": [
    {
     "name": "stdout",
     "output_type": "stream",
     "text": [
      "Thailand 23.88888888888889\n",
      "Germany 13.88888888888889\n",
      "Russia 3.888888888888889\n",
      "Poland 12.222222222222221\n"
     ]
    }
   ],
   "source": [
    "#Задание 4. У нас есть список, содержащий информацию о среднедневной температуре\n",
    "#в Фаренгейтах за произвольный период по странам (структура данных в примере).\n",
    "#Необходимо написать код, который рассчитает среднюю температуру за период в Цельсиях(!) для каждой страны.\n",
    "countries_temperature = [\n",
    "['Thailand', [75.2, 77, 78.8, 73.4, 68, 75.2, 77]],\n",
    "['Germany', [57.2, 55.4, 59, 59, 53.6]],\n",
    "['Russia', [35.6, 37.4, 39.2, 41, 42.8, 39.2, 35.6]],\n",
    "['Poland', [50, 50, 53.6, 57.2, 55.4, 55.4]]\n",
    "]\n",
    "#Результат:\n",
    "#Средняя температура в странах:\n",
    "#Thailand - 23.9 С\n",
    "#Germany - 13.8 С\n",
    "#Russia - 3.7 С\n",
    "#Poland - 12.0 С\n",
    "#print(countries_temperature[0])\n",
    "avg = 0\n",
    "for country in countries_temperature:\n",
    "    for stats in country[1]:\n",
    "        avg = avg+stats\n",
    "        #print(avg)\n",
    "    print(country[0],(round(avg/len(country[1])-32)/1.8))\n",
    "    avg = 0"
   ]
  },
  {
   "cell_type": "code",
   "execution_count": 61,
   "metadata": {},
   "outputs": [
    {
     "name": "stdout",
     "output_type": "stream",
     "text": [
      "список юзеров:  ['user1', 'user2', 'user3', 'user4']\n",
      "всего просмотров:  93\n",
      "в среднем на одного юзера приходится  23.25  просмотра\n"
     ]
    }
   ],
   "source": [
    "#Задание 5 (необязательное). Дан поток логов по количеству просмотренных страниц для каждого пользователя.\n",
    "#Вам необходимо написать алгоритм, который считает среднее значение просмотров на пользователя. \n",
    "#Т. е. надо посчитать отношение суммы всех просмотров к количеству уникальных пользователей.\n",
    "stream = [\n",
    "'2018-01-01,user1,3',\n",
    "'2018-01-07,user1,4',\n",
    "'2018-03-29,user1,1',\n",
    "'2018-04-04,user1,13',\n",
    "'2018-01-05,user2,7',\n",
    "'2018-06-14,user3,4',\n",
    "'2018-07-02,user3,10',\n",
    "'2018-03-21,user4,19',\n",
    "'2018-03-22,user4,4',\n",
    "'2018-04-22,user4,8',\n",
    "'2018-05-03,user4,9',\n",
    "'2018-05-11,user4,11',\n",
    "]\n",
    "userlist = []\n",
    "views = 0\n",
    "for entry in stream:\n",
    "    user = entry.split()[0].strip().split(',')[1]\n",
    "    view = int(entry.split()[0].strip().split(',')[2])\n",
    "    if not user in userlist:\n",
    "        userlist.append(user)\n",
    "    views += view\n",
    "print('список юзеров: ', userlist)\n",
    "print('всего просмотров: ', views)\n",
    "print ('в среднем на одного юзера приходится ', views/len(userlist), ' просмотра')"
   ]
  },
  {
   "cell_type": "code",
   "execution_count": 67,
   "metadata": {},
   "outputs": [
    {
     "name": "stdout",
     "output_type": "stream",
     "text": [
      "1 1 2 3 4 5 5 \n",
      "{'1', '5'}\n"
     ]
    }
   ],
   "source": [
    "#Задание 6 (необязательное). Необходимо у пользователя запрашивать набор чисел разделенных пробелом.\n",
    "#В результате должны выводиться числа, которые повторяются в вводе более одного раза.\n",
    "numbers = input().split()\n",
    "frequent = []\n",
    "for number in numbers:\n",
    "    if numbers.count(number) > 1:\n",
    "        frequent.append(number)\n",
    "print(set(frequent))\n"
   ]
  }
 ],
 "metadata": {
  "kernelspec": {
   "display_name": "Python 3",
   "language": "python",
   "name": "python3"
  },
  "language_info": {
   "codemirror_mode": {
    "name": "ipython",
    "version": 3
   },
   "file_extension": ".py",
   "mimetype": "text/x-python",
   "name": "python",
   "nbconvert_exporter": "python",
   "pygments_lexer": "ipython3",
   "version": "3.7.6"
  }
 },
 "nbformat": 4,
 "nbformat_minor": 4
}
